{
 "cells": [
  {
   "cell_type": "code",
   "execution_count": 78,
   "metadata": {
    "scrolled": true
   },
   "outputs": [
    {
     "name": "stdout",
     "output_type": "stream",
     "text": [
      "\n",
      "Features/Columns : \n",
      " Index(['Month', 'ID', 'created_time', 'Interested_in', 'Name', 'Email',\n",
      "       'RegisteredEmail', 'City', 'Phone', 'Mobile', 'AppointmentDate',\n",
      "       'AppointmentTime', 'PANno', 'Adset', 'IPAddress', 'Referer', 'Campaign',\n",
      "       'Dateadded', 'Dispostion_Status', 'Dateupdated', 'Remark',\n",
      "       'Call_Back_Date', 'Contactable', 'Alternate_Mobile_Number', 'Product',\n",
      "       'Country', 'Country_Code', 'Age_of_Company', 'Turnover', 'Loan_Amount',\n",
      "       'Branch_Name', 'gclid', 'ZeroBalanceSavings', 'Tellecaller',\n",
      "       'Mobile No', 'Disposition', 'Disp', 'Remarks', 'Attempts'],\n",
      "      dtype='object')\n",
      "\n",
      "\n",
      "Number of Features/Columns :  39\n",
      "\n",
      "Number of Rows :  19700\n",
      "\n",
      "Dimension of dataFrame :  (19700, 39)\n"
     ]
    }
   ],
   "source": [
    "import pandas as pd\n",
    "df = pd.read_csv(\"yesbank/Campaign2_NC_dec.csv\")\n",
    "print(\"\\nFeatures/Columns : \\n\", df.columns)\n",
    "print(\"\\n\\nNumber of Features/Columns : \", len(df.columns))\n",
    "print(\"\\nNumber of Rows : \",len(df))\n",
    "print(\"\\nDimension of dataFrame : \",df.shape)\n",
    "# df"
   ]
  },
  {
   "cell_type": "code",
   "execution_count": 82,
   "metadata": {
    "scrolled": true
   },
   "outputs": [],
   "source": [
    "df=df[['Interested_in','City','Disposition','Referer','Campaign','Disp']]\n",
    "df.to_csv(\"new.csv\") "
   ]
  },
  {
   "cell_type": "code",
   "execution_count": 4,
   "metadata": {
    "scrolled": false
   },
   "outputs": [
    {
     "name": "stdout",
     "output_type": "stream",
     "text": [
      "\n",
      " Contains NaN/Empty cells :  True\n",
      "\n",
      "\n",
      "Data Types :\n",
      " Interested_in    object\n",
      "City             object\n",
      "Disposition      object\n",
      "Referer          object\n",
      "Campaign         object\n",
      "Disp             object\n",
      "dtype: object\n",
      "\n",
      " Total empty cells by column :\n",
      " Interested_in    4552\n",
      "City                1\n",
      "Disposition         0\n",
      "Referer             0\n",
      "Campaign           24\n",
      "Disp                0\n",
      "dtype: int64 \n",
      "\n",
      "\n"
     ]
    }
   ],
   "source": [
    "print(\"\\n Contains NaN/Empty cells : \", df.isnull().values.any())\n",
    "print(\"\\n\\nData Types :\\n\", df.dtypes)\n",
    "print(\"\\n Total empty cells by column :\\n\", df.isnull().sum(), \"\\n\\n\")"
   ]
  },
  {
   "cell_type": "code",
   "execution_count": 5,
   "metadata": {},
   "outputs": [
    {
     "name": "stdout",
     "output_type": "stream",
     "text": [
      "Original Length of Training Set :  19700\n",
      "Length of Training Set after dropping NaN:  15128\n"
     ]
    }
   ],
   "source": [
    "print(\"Original Length of Training Set : \", len(df))\n",
    "df = df.dropna()\n",
    "print(\"Length of Training Set after dropping NaN: \", len(df))"
   ]
  },
  {
   "cell_type": "code",
   "execution_count": 83,
   "metadata": {
    "scrolled": true
   },
   "outputs": [],
   "source": [
    "df = df.head(2000)"
   ]
  },
  {
   "cell_type": "code",
   "execution_count": 7,
   "metadata": {
    "scrolled": true
   },
   "outputs": [
    {
     "name": "stdout",
     "output_type": "stream",
     "text": [
      "--------------------------------------------------\n",
      "Referer\n",
      "Current Account                    627\n",
      "Savings Account customizable       303\n",
      "Savings Account-6 percent            6\n",
      "Savings Account-70 percent         372\n",
      "Savings Account-SeniorcitizenFD     25\n",
      "Savings Account-fixed deposit      379\n",
      "Yes First                          288\n",
      "dtype: int64\n",
      "--------------------------------------------------\n",
      "Disposition\n",
      "CDR Disposition - Not Contactable                        11\n",
      "CDR disposition-Not Contactable                          25\n",
      "CDR disposition-Not Contactable-Ringing No Response       1\n",
      "Customer Disconnected                                   555\n",
      "Not Contactable-Busy                                    312\n",
      "Not Contactable-Language Barrier                        118\n",
      "Not Contactable-Not reachable / Switched Off            242\n",
      "Not Contactable-Number temporary Not in Service          68\n",
      "Not Contactable-Ringing No Response                     631\n",
      "Not Contactable-Wrong Number / Number does not exist     26\n",
      "OCM disposition - Not contactable                        11\n",
      "dtype: int64\n",
      "--------------------------------------------------\n",
      "Campaign\n",
      "-                                                                 1\n",
      "-YesCommunity                                                     1\n",
      "Current_Account_B2B                                             394\n",
      "Current_Account_Lookalike                                       111\n",
      "Current_Account_Regional_News                                     1\n",
      "Display_snapdeal-affiliate                                       17\n",
      "Display_snapdeal-affiliate,AndroidNew                            10\n",
      "PB_6pecent-aPB                                                    4\n",
      "PB_6pecent-aPB2                                                  21\n",
      "PB_7.5percent_FD-aPB                                              2\n",
      "PB_70pecent_savings-aPB                                           1\n",
      "Search_India_YES_First_Advantage_BMM                             35\n",
      "Search_India_YES_First_Advantage_Exact                            1\n",
      "Search_India_YES_First_Advantage_Exclusive_BMM                    7\n",
      "Search_India_YES_First_BMM                                        2\n",
      "Search_India_YES_First_Exact                                      1\n",
      "Search_India_YES_First_Lateral_BMM                                4\n",
      "Search_India_YES_First_Lateral_Exact                              1\n",
      "Search_India_YES_First_Wealth_Management_BMM                      3\n",
      "Search_India_YES_First_Wealth_Management_Exact                    1\n",
      "Search_PAN_India_Brand_Fixed_Deposit_BMM-google                   9\n",
      "Search_PAN_India_Brand_Fixed_Deposit_Exact-google                33\n",
      "Search_PAN_India_Brand_Max_Imp_Share_Exact-google                 8\n",
      "Search_PAN_India_Brand_Yes_Insta_Desktop_Exact_New_LP-google      1\n",
      "Search_PAN_India_Brand_Yes_Insta_Mobile_Exact_New_LP-google       6\n",
      "Search_PAN_India_Competition_Exact-google                         1\n",
      "Search_PAN_India_Core_Fixed_Deposit_BMM-google                   19\n",
      "Search_PAN_India_Core_Fixed_Deposit_Exact-google                  5\n",
      "Search_PAN_India_Lateral_BMM-google                               1\n",
      "Search_PAN_India_Senior_Citizen_Fixed_Deposit_Core_BMM            2\n",
      "                                                               ... \n",
      "mailer_Affle_6percent_SA_1374_1193-affiliate                      6\n",
      "mailer_Apoxy_6percent_SA-affiliate                               72\n",
      "mailer_Apoxy_70percent_SA-affiliate                              14\n",
      "mailer_Dangleads_6percent_SA-affiliate                            2\n",
      "mailer_Icubes_70percent_SA_3618-affiliate                         2\n",
      "mailer_Icubes_Fixeddeposit_SA_3010-affiliate                      2\n",
      "mailer_Leadsurf-affiliate                                         2\n",
      "mailer_Luvia_6percent_SA_Pub3-affiliate                           1\n",
      "mailer_Luvia_70percent_SA_Pub8-affiliate                          2\n",
      "mailer_Valueleaf-affiliate                                        1\n",
      "mailer_mobtray_6percent-affiliate                                26\n",
      "mailer_netcore_6percent_SA_1004-affiliate                        47\n",
      "mailer_netcore_6percent_SA_1276-affiliate                         3\n",
      "mailer_netcore_6percent_SA_2343-affiliate                         1\n",
      "mailer_publishername_6percent_SA-affiliate                       17\n",
      "mailer_publishername_70percent_SA-affiliate                      41\n",
      "mailer_trackbackmedia_6percent_SA-affiliate                      13\n",
      "mailer_valueleaf_70percent_SA-1133                               45\n",
      "mailer_valueleaf_70percent_SA-1137                               39\n",
      "mailer_valueleaf_70percent_SA-1139                               41\n",
      "mailer_valueleaf_70percent_SA-1223                               69\n",
      "mailer_valueleaf_70percent_SA-1225                               26\n",
      "mailer_valueleaf_70percent_SA-1267                               15\n",
      "mailer_valueleaf_70percent_SA-1269                               74\n",
      "mailer_ventes_6percent_SA_28_-affiliate                           1\n",
      "mailer_ventes_6percent_SA_54_-affiliate                          32\n",
      "mailer_way2online-affiliate                                       2\n",
      "mailer_xapads_6percent_SA-affiliate                               5\n",
      "nativeads_columbia_yesfirst                                       5\n",
      "nativeads_yahoo_yesfirst                                         50\n",
      "Length: 90, dtype: int64\n",
      "--------------------------------------------------\n",
      "Interested_in\n",
      ",Credit Card                                                            282\n",
      ",Credit Card,Current Account                                             53\n",
      ",Credit Card,Current Account,Trading Account                             11\n",
      ",Credit Card,Loans                                                       38\n",
      ",Credit Card,Loans,Current Account                                       17\n",
      ",Credit Card,Loans,Current Account,Trading Account                      104\n",
      ",Credit Card,Loans,Trading Account                                       24\n",
      ",Credit Card,Trading Account                                             44\n",
      ",Current Account                                                        214\n",
      ",Current Account,Trading Account                                         33\n",
      ",Loans                                                                  216\n",
      ",Loans,Current Account                                                   15\n",
      ",Loans,Current Account,Trading Account                                    5\n",
      ",Loans,Trading Account                                                    7\n",
      ",Trading Account                                                        170\n",
      "Business Credit Cards,                                                   70\n",
      "Business Credit Cards, Savings Account ,                                 38\n",
      "Business Loan,                                                           86\n",
      "Business Loan, Business Credit Cards,                                    23\n",
      "Business Loan, Business Credit Cards, Savings Account ,                  24\n",
      "Business Loan, Savings Account ,                                         18\n",
      "POS Machine,                                                             10\n",
      "POS Machine, Business Credit Cards,                                       5\n",
      "POS Machine, Business Credit Cards, Savings Account ,                     7\n",
      "POS Machine, Business Loan,                                               6\n",
      "POS Machine, Business Loan, Business Credit Cards,                       12\n",
      "POS Machine, Business Loan, Business Credit Cards, Savings Account ,     52\n",
      "POS Machine, Business Loan, Savings Account ,                             4\n",
      "POS Machine, Savings Account ,                                            2\n",
      "Saving Account                                                          143\n",
      "Savings Account ,                                                       267\n",
      "dtype: int64\n",
      "--------------------------------------------------\n",
      "City\n",
      "Adityapur                         3\n",
      "Agartala                          7\n",
      "Agra                             14\n",
      "Ahmadnagar                       13\n",
      "Ahmedabad                        48\n",
      "Ahmednagar                        2\n",
      "Aizawl                            1\n",
      "Ajmer                             8\n",
      "Aligarh                           7\n",
      "Allahabad                        20\n",
      "Alwar                            12\n",
      "Ambala                            4\n",
      "Ambur                             3\n",
      "Amravati                         11\n",
      "Amreli                            2\n",
      "Amritsar                          7\n",
      "Amroha (Jyotiba Phule Nagar)      1\n",
      "Anand                             3\n",
      "Anantnag                          3\n",
      "Ankleshwar                        1\n",
      "Asansol                           2\n",
      "Aurangabad                       33\n",
      "Badlapur                          1\n",
      "Bagalkote                         2\n",
      "Baghpat                           2\n",
      "Bahadurgarh                       1\n",
      "Balotra                           2\n",
      "Bangalore                       152\n",
      "Banswara                          3\n",
      "Barabanki                         3\n",
      "                               ... \n",
      "Surat                            26\n",
      "Surendranagar                     1\n",
      "Suryapet                          1\n",
      "Tejpur                            2\n",
      "Thane                            14\n",
      "Thiruvananthapuram                4\n",
      "Thrissur                          3\n",
      "Tinsukiya                         2\n",
      "Tiruchirappalli                  15\n",
      "Tirupati                          4\n",
      "Tiruppur                         19\n",
      "Tiruvalla                         1\n",
      "Tonk                              1\n",
      "Tuticorin                         3\n",
      "Udaipur                           4\n",
      "Uddham Singh Nagar                3\n",
      "Udupi                             1\n",
      "Ujjain                            4\n",
      "Vadodara                          6\n",
      "Valsad                            2\n",
      "Vapi                              1\n",
      "Varanasi                          5\n",
      "Veraval                           1\n",
      "Vidisha                           2\n",
      "Vijayawada                        7\n",
      "Vizag                             8\n",
      "Vizianagaram                      4\n",
      "Warangal                         10\n",
      "Yadgir                            5\n",
      "Yamuna Nagar                      2\n",
      "Length: 268, dtype: int64\n"
     ]
    }
   ],
   "source": [
    "import numpy as np\n",
    "print('-'*50)\n",
    "print(df.groupby('Referer').size())\n",
    "print('-'*50)\n",
    "print(df.groupby('Disposition').size())\n",
    "print('-'*50)\n",
    "print(df.groupby('Campaign').size())\n",
    "print('-'*50)\n",
    "print(df.groupby('Interested_in').size())\n",
    "print('-'*50)\n",
    "print(df.groupby('City').size())"
   ]
  },
  {
   "cell_type": "code",
   "execution_count": 74,
   "metadata": {
    "scrolled": true
   },
   "outputs": [],
   "source": [
    "#import matplotlib.pyplot as plt\n",
    "#plt.scatter(df['Referer'],df['Disposition'])"
   ]
  },
  {
   "cell_type": "code",
   "execution_count": 84,
   "metadata": {
    "scrolled": true
   },
   "outputs": [
    {
     "name": "stdout",
     "output_type": "stream",
     "text": [
      "\n",
      "Features/Columns : \n",
      " Index(['Month', 'ID', 'created_time', 'Interested_in', 'Name', 'Email',\n",
      "       'RegisteredEmail', 'City', 'Phone', 'Mobile', 'AppointmentDate',\n",
      "       'AppointmentTime', 'PANno', 'Adset', 'IPAddress', 'Referer', 'Campaign',\n",
      "       'Dateadded', 'Dispostion_Status', 'Dateupdated', 'Remark',\n",
      "       'Call_Back_Date', 'Contactable', 'Alternate_Mobile_Number', 'Product',\n",
      "       'Country', 'Country_Code', 'Age_of_Company', 'Turnover', 'Loan_Amount',\n",
      "       'Branch_Name', 'gclid', 'ZeroBalanceSavings', 'Tellecaller',\n",
      "       'Mobile No', 'Disposition', 'Disp', 'Remarks', 'Attempts'],\n",
      "      dtype='object')\n",
      "\n",
      "\n",
      "Number of Features/Columns :  39\n",
      "\n",
      "Number of Rows :  31336\n",
      "\n",
      "Dimension of dataFrame :  (31336, 39)\n"
     ]
    }
   ],
   "source": [
    "import pandas as pd\n",
    "df = pd.read_csv(\"yesbank/Campaign2_NC_nov.csv\")\n",
    "print(\"\\nFeatures/Columns : \\n\", df.columns)\n",
    "print(\"\\n\\nNumber of Features/Columns : \", len(df.columns))\n",
    "print(\"\\nNumber of Rows : \",len(df))\n",
    "print(\"\\nDimension of dataFrame : \",df.shape)"
   ]
  },
  {
   "cell_type": "code",
   "execution_count": null,
   "metadata": {
    "scrolled": true
   },
   "outputs": [],
   "source": []
  },
  {
   "cell_type": "code",
   "execution_count": 85,
   "metadata": {
    "scrolled": true
   },
   "outputs": [
    {
     "name": "stdout",
     "output_type": "stream",
     "text": [
      "\n",
      " Contains NaN/Empty cells :  True\n",
      "\n",
      "\n",
      "Data Types :\n",
      " Month                       object\n",
      "ID                           int64\n",
      "created_time               float64\n",
      "Interested_in               object\n",
      "Name                        object\n",
      "Email                       object\n",
      "RegisteredEmail            float64\n",
      "City                        object\n",
      "Phone                       object\n",
      "Mobile                      object\n",
      "AppointmentDate            float64\n",
      "AppointmentTime            float64\n",
      "PANno                      float64\n",
      "Adset                      float64\n",
      "IPAddress                   object\n",
      "Referer                     object\n",
      "Campaign                    object\n",
      "Dateadded                   object\n",
      "Dispostion_Status          float64\n",
      "Dateupdated                float64\n",
      "Remark                     float64\n",
      "Call_Back_Date             float64\n",
      "Contactable                float64\n",
      "Alternate_Mobile_Number    float64\n",
      "Product                    float64\n",
      "Country                    float64\n",
      "Country_Code               float64\n",
      "Age_of_Company             float64\n",
      "Turnover                   float64\n",
      "Loan_Amount                float64\n",
      "Branch_Name                float64\n",
      "gclid                       object\n",
      "ZeroBalanceSavings          object\n",
      "Tellecaller                float64\n",
      "Mobile No                   object\n",
      "Disposition                 object\n",
      "Disp                        object\n",
      "Remarks                     object\n",
      "Attempts                     int64\n",
      "dtype: object\n",
      "\n",
      " Total empty cells by column :\n",
      " Month                          0\n",
      "ID                             0\n",
      "created_time               31336\n",
      "Interested_in               6928\n",
      "Name                           0\n",
      "Email                          0\n",
      "RegisteredEmail            31336\n",
      "City                           3\n",
      "Phone                          0\n",
      "Mobile                         0\n",
      "AppointmentDate            31336\n",
      "AppointmentTime            31336\n",
      "PANno                      31336\n",
      "Adset                      31336\n",
      "IPAddress                      0\n",
      "Referer                        0\n",
      "Campaign                    1605\n",
      "Dateadded                      0\n",
      "Dispostion_Status          31336\n",
      "Dateupdated                31336\n",
      "Remark                     31336\n",
      "Call_Back_Date             31336\n",
      "Contactable                31336\n",
      "Alternate_Mobile_Number    31336\n",
      "Product                    31336\n",
      "Country                    31336\n",
      "Country_Code               31336\n",
      "Age_of_Company             31336\n",
      "Turnover                   31336\n",
      "Loan_Amount                31336\n",
      "Branch_Name                31336\n",
      "gclid                      25821\n",
      "ZeroBalanceSavings         16997\n",
      "Tellecaller                31336\n",
      "Mobile No                      0\n",
      "Disposition                    0\n",
      "Disp                           0\n",
      "Remarks                      267\n",
      "Attempts                       0\n",
      "dtype: int64 \n",
      "\n",
      "\n"
     ]
    }
   ],
   "source": [
    "print(\"\\n Contains NaN/Empty cells : \", df.isnull().values.any())\n",
    "print(\"\\n\\nData Types :\\n\", df.dtypes)\n",
    "print(\"\\n Total empty cells by column :\\n\", df.isnull().sum(), \"\\n\\n\")"
   ]
  },
  {
   "cell_type": "code",
   "execution_count": 86,
   "metadata": {
    "scrolled": true
   },
   "outputs": [
    {
     "name": "stdout",
     "output_type": "stream",
     "text": [
      "Original Length of Training Set :  31336\n",
      "Length of Training Set after dropping NaN:  0\n"
     ]
    }
   ],
   "source": [
    "print(\"Original Length of Training Set : \", len(df))\n",
    "df = df.dropna()\n",
    "print(\"Length of Training Set after dropping NaN: \", len(df))"
   ]
  },
  {
   "cell_type": "code",
   "execution_count": 87,
   "metadata": {
    "scrolled": true
   },
   "outputs": [],
   "source": [
    "df = df.head(2000)"
   ]
  },
  {
   "cell_type": "code",
   "execution_count": 88,
   "metadata": {},
   "outputs": [],
   "source": [
    "with open('new.csv', 'a') as f:\n",
    "    df.to_csv(f, header=False)"
   ]
  },
  {
   "cell_type": "code",
   "execution_count": 89,
   "metadata": {
    "scrolled": true
   },
   "outputs": [
    {
     "name": "stdout",
     "output_type": "stream",
     "text": [
      "\n",
      "Features/Columns : \n",
      " Index(['Month', 'ID', 'created_time', 'Interested_in', 'Name', 'Email',\n",
      "       'RegisteredEmail', 'City', 'Phone', 'Mobile', 'AppointmentDate',\n",
      "       'AppointmentTime', 'PANno', 'Adset', 'IPAddress', 'Referer', 'Campaign',\n",
      "       'Dateadded', 'Dispostion_Status', 'Dateupdated', 'Remark',\n",
      "       'Call_Back_Date', 'Contactable', 'Alternate_Mobile_Number', 'Product',\n",
      "       'Country', 'Country_Code', 'Age_of_Company', 'Turnover', 'Loan_Amount',\n",
      "       'Branch_Name', 'gclid', 'ZeroBalanceSavings', 'Tellecaller',\n",
      "       'Mobile No', 'Disposition', 'Disp', 'Attempts'],\n",
      "      dtype='object')\n",
      "\n",
      "\n",
      "Number of Features/Columns :  38\n",
      "\n",
      "Number of Rows :  23099\n",
      "\n",
      "Dimension of dataFrame :  (23099, 38)\n"
     ]
    }
   ],
   "source": [
    "df = pd.read_csv(\"yesbank/Campaign2_NC_oct.csv\")\n",
    "print(\"\\nFeatures/Columns : \\n\", df.columns)\n",
    "print(\"\\n\\nNumber of Features/Columns : \", len(df.columns))\n",
    "print(\"\\nNumber of Rows : \",len(df))\n",
    "print(\"\\nDimension of dataFrame : \",df.shape)"
   ]
  },
  {
   "cell_type": "code",
   "execution_count": 90,
   "metadata": {
    "scrolled": true
   },
   "outputs": [],
   "source": [
    "df=df[['Interested_in','City','Disposition','Referer','Campaign','Disp']]"
   ]
  },
  {
   "cell_type": "code",
   "execution_count": 91,
   "metadata": {
    "scrolled": true
   },
   "outputs": [
    {
     "name": "stdout",
     "output_type": "stream",
     "text": [
      "\n",
      " Contains NaN/Empty cells :  True\n",
      "\n",
      "\n",
      "Data Types :\n",
      " Interested_in    object\n",
      "City             object\n",
      "Disposition      object\n",
      "Referer          object\n",
      "Campaign         object\n",
      "Disp             object\n",
      "dtype: object\n",
      "\n",
      " Total empty cells by column :\n",
      " Interested_in    6031\n",
      "City                2\n",
      "Disposition         0\n",
      "Referer             0\n",
      "Campaign         1090\n",
      "Disp                0\n",
      "dtype: int64 \n",
      "\n",
      "\n"
     ]
    }
   ],
   "source": [
    "print(\"\\n Contains NaN/Empty cells : \", df.isnull().values.any())\n",
    "print(\"\\n\\nData Types :\\n\", df.dtypes)\n",
    "print(\"\\n Total empty cells by column :\\n\", df.isnull().sum(), \"\\n\\n\")"
   ]
  },
  {
   "cell_type": "code",
   "execution_count": 69,
   "metadata": {
    "scrolled": true
   },
   "outputs": [
    {
     "name": "stdout",
     "output_type": "stream",
     "text": [
      "Original Length of Training Set :  0\n",
      "Length of Training Set after dropping NaN:  0\n"
     ]
    }
   ],
   "source": [
    "print(\"Original Length of Training Set : \", len(df))\n",
    "df = df.dropna()\n",
    "print(\"Length of Training Set after dropping NaN: \", len(df))"
   ]
  },
  {
   "cell_type": "code",
   "execution_count": 71,
   "metadata": {
    "scrolled": true
   },
   "outputs": [],
   "source": [
    "df = df.head(2000)"
   ]
  },
  {
   "cell_type": "code",
   "execution_count": 92,
   "metadata": {
    "scrolled": true
   },
   "outputs": [],
   "source": [
    "df = pd.read_csv(\"new.csv\", encoding = \"ISO-8859-1\")"
   ]
  },
  {
   "cell_type": "code",
   "execution_count": 93,
   "metadata": {
    "scrolled": true
   },
   "outputs": [],
   "source": [
    "df=df[['Interested_in','City','Disposition','Referer','Campaign','Disp']]"
   ]
  },
  {
   "cell_type": "code",
   "execution_count": 94,
   "metadata": {
    "scrolled": true
   },
   "outputs": [],
   "source": [
    "df = pd.read_csv(\"yesbank/Campaign2_NC_dec.csv\")"
   ]
  },
  {
   "cell_type": "code",
   "execution_count": null,
   "metadata": {},
   "outputs": [],
   "source": []
  }
 ],
 "metadata": {
  "kernelspec": {
   "display_name": "Python 3",
   "language": "python",
   "name": "python3"
  },
  "language_info": {
   "codemirror_mode": {
    "name": "ipython",
    "version": 3
   },
   "file_extension": ".py",
   "mimetype": "text/x-python",
   "name": "python",
   "nbconvert_exporter": "python",
   "pygments_lexer": "ipython3",
   "version": "3.6.8"
  }
 },
 "nbformat": 4,
 "nbformat_minor": 2
}
